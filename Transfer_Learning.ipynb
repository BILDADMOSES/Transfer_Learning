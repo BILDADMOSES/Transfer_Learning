{
 "cells": [
  {
   "cell_type": "markdown",
   "metadata": {},
   "source": [
    "# Introduction to Transfer Learning with Inception Model\n",
    "\n",
    "### What is Transfer Learning?\n",
    "Transfer learning is a machine learning technique where a model trained on one task is reused as the starting point for a model on a different, but related task. Rather than training a new model from scratch, transfer learning leverages knowledge from pre-trained models, saving time and resources while often achieving high performance. It’s particularly useful when you don’t have a large dataset or need to adapt a model quickly.\n",
    "\n",
    "In the example of classifying images of cats and dogs, we can use transfer learning to adapt an existing model—like **InceptionV3**—which has been pre-trained on a massive dataset (e.g., ImageNet) to identify general features in images.\n",
    "\n",
    "<img src = \"CNN-Architecture.png\">\n",
    "\n",
    "### Understanding the Inception Model\n",
    "The Inception model is a type of Convolutional Neural Network (CNN) known for its high performance in image recognition tasks. Developed by Google, **InceptionV3** is a widely-used version that excels at extracting useful image features through complex layers of convolutions. This model is trained on millions of images, so it already \"knows\" how to identify a broad range of visual features.\n",
    "\n",
    "<img src = \"Inception.png\">\n",
    "\n",
    "### What is the \"Top\" in Inception?\n",
    "In CNNs like Inception, the \"top\" refers to the fully connected (FC) layer(s) at the end of the model, responsible for making predictions. When using **`include_top=False`**, we are removing this final FC layer, leaving only the convolutional layers, which act as feature extractors. This allows us to add our own custom output layer for a new classification task.\n",
    "\n",
    "For instance, InceptionV3’s original top layer is configured to classify 1,000 categories from ImageNet, but we only need two categories: cats and dogs. By excluding the top, we use only the feature-detection power of the Inception model and then add our own simple output layer tailored to our task.\n",
    "\n",
    "### Step-by-Step Example: Classifying Cats and Dogs Using InceptionV3\n",
    "\n",
    "1. **Load the Pre-Trained Model without the Top**:\n",
    "   Load the InceptionV3 model with **`include_top=False`** to keep only the convolutional layers. This will let us add a custom output layer.\n",
    "\n"
   ]
  },
  {
   "cell_type": "code",
   "execution_count": 1,
   "metadata": {},
   "outputs": [
    {
     "name": "stdout",
     "output_type": "stream",
     "text": [
      "Downloading data from https://storage.googleapis.com/tensorflow/keras-applications/inception_v3/inception_v3_weights_tf_dim_ordering_tf_kernels_notop.h5\n",
      "\u001b[1m87910968/87910968\u001b[0m \u001b[32m━━━━━━━━━━━━━━━━━━━━\u001b[0m\u001b[37m\u001b[0m \u001b[1m61s\u001b[0m 1us/step\n"
     ]
    }
   ],
   "source": [
    "from tensorflow.keras.applications import InceptionV3\n",
    "pre_trained_model = InceptionV3(input_shape=(150, 150, 3), include_top=False, weights='imagenet')"
   ]
  },
  {
   "cell_type": "markdown",
   "metadata": {},
   "source": [
    "2. **Freeze the Convolutional Layers**:\n",
    "    By setting layer.trainable = False on each layer, you’re telling the model not to update these layers during training. This is useful because the pre-trained convolutional layers have already learned good features, so retraining them isn’t necessary for your new task."
   ]
  },
  {
   "cell_type": "code",
   "execution_count": 2,
   "metadata": {},
   "outputs": [],
   "source": [
    "for layer in pre_trained_model.layers:\n",
    "    layer.trainable = False"
   ]
  },
  {
   "cell_type": "markdown",
   "metadata": {},
   "source": [
    "3. **Add Your Own Layers**:\n",
    "    After the pre-trained layers, you can add a new fully connected layer for your specific classification task. For example, if you’re classifying two categories, add a layer with a sigmoid activation."
   ]
  },
  {
   "cell_type": "code",
   "execution_count": 3,
   "metadata": {},
   "outputs": [],
   "source": [
    "from tensorflow.keras import layers, models\n",
    "\n",
    "model = models.Sequential([\n",
    "    pre_trained_model,\n",
    "    layers.Flatten(),\n",
    "    layers.Dense(256, activation='relu'),\n",
    "    layers.Dense(1, activation='sigmoid')  # For binary classification\n",
    "])"
   ]
  },
  {
   "cell_type": "markdown",
   "metadata": {},
   "source": [
    "4. **Compile and Train**:\n",
    "    Now, compile and train this new model. Only your custom layers will update, while the frozen Inception layers remain as-is."
   ]
  }
 ],
 "metadata": {
  "kernelspec": {
   "display_name": "env1",
   "language": "python",
   "name": "python3"
  },
  "language_info": {
   "codemirror_mode": {
    "name": "ipython",
    "version": 3
   },
   "file_extension": ".py",
   "mimetype": "text/x-python",
   "name": "python",
   "nbconvert_exporter": "python",
   "pygments_lexer": "ipython3",
   "version": "3.10.0"
  }
 },
 "nbformat": 4,
 "nbformat_minor": 2
}
